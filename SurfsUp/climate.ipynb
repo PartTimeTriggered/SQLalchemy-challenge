{
 "cells": [
  {
   "cell_type": "code",
   "execution_count": 1,
   "metadata": {},
   "outputs": [],
   "source": [
    "%matplotlib inline\n",
    "from matplotlib import style\n",
    "style.use('fivethirtyeight')\n",
    "import matplotlib.pyplot as plt"
   ]
  },
  {
   "cell_type": "code",
   "execution_count": 2,
   "metadata": {},
   "outputs": [],
   "source": [
    "import numpy as np\n",
    "import pandas as pd\n",
    "import datetime as dt\n",
    "from scipy import stats"
   ]
  },
  {
   "cell_type": "markdown",
   "metadata": {},
   "source": [
    "# Reflect Tables into SQLAlchemy ORM"
   ]
  },
  {
   "cell_type": "code",
   "execution_count": 3,
   "metadata": {},
   "outputs": [],
   "source": [
    "# Python SQL toolkit and Object Relational Mapper\n",
    "import sqlalchemy\n",
    "from sqlalchemy.ext.automap import automap_base\n",
    "from sqlalchemy.orm import Session\n",
    "from sqlalchemy import create_engine, func"
   ]
  },
  {
   "cell_type": "code",
   "execution_count": 4,
   "metadata": {},
   "outputs": [],
   "source": [
    "# create engine to hawaii.sqlite\n",
    "engine = create_engine(\"sqlite:///Resources/hawaii.sqlite\")"
   ]
  },
  {
   "cell_type": "code",
   "execution_count": 5,
   "metadata": {},
   "outputs": [],
   "source": [
    "# reflect an existing database into a new model\n",
    "base = automap_base()\n",
    "# reflect the tables\n",
    "base.prepare(engine, reflect=True)"
   ]
  },
  {
   "cell_type": "code",
   "execution_count": 6,
   "metadata": {},
   "outputs": [
    {
     "data": {
      "text/plain": [
       "['measurement', 'station']"
      ]
     },
     "execution_count": 6,
     "metadata": {},
     "output_type": "execute_result"
    }
   ],
   "source": [
    "# View all of the classes that automap found\n",
    "base.classes.keys()"
   ]
  },
  {
   "cell_type": "code",
   "execution_count": 7,
   "metadata": {},
   "outputs": [],
   "source": [
    "# Save references to each table\n",
    "measurement = base.classes.measurement\n",
    "station = base.classes.station"
   ]
  },
  {
   "cell_type": "code",
   "execution_count": 8,
   "metadata": {},
   "outputs": [],
   "source": [
    "# Create our session (link) from Python to the DB\n",
    "session = Session(engine)"
   ]
  },
  {
   "cell_type": "markdown",
   "metadata": {},
   "source": [
    "# Exploratory Precipitation Analysis"
   ]
  },
  {
   "cell_type": "code",
   "execution_count": 9,
   "metadata": {},
   "outputs": [
    {
     "name": "stdout",
     "output_type": "stream",
     "text": [
      "('2017-08-23',)\n"
     ]
    }
   ],
   "source": [
    "# Design a query to retrieve the last 12 months of precipitation data and plot the results. \n",
    "\n",
    "# Find the most recent date in the data set.\n",
    "last_date = session.query(measurement.date).order_by(measurement.date.desc()).first()\n",
    "print(last_date)"
   ]
  },
  {
   "cell_type": "code",
   "execution_count": 10,
   "metadata": {},
   "outputs": [
    {
     "name": "stdout",
     "output_type": "stream",
     "text": [
      "Query Date : 2016-08-23\n"
     ]
    }
   ],
   "source": [
    "# Calculate the date one year from the last date in data set.\n",
    "query_date = dt.date(2017,8,23) - dt.timedelta(days=365)\n",
    "print(\"Query Date :\", query_date)"
   ]
  },
  {
   "cell_type": "code",
   "execution_count": 11,
   "metadata": {},
   "outputs": [],
   "source": [
    "# Perform a query to retrieve the data and precipitation scores\n",
    "data = session.query(measurement.date, measurement.prcp).filter(measurement.date >= query_date).all()"
   ]
  },
  {
   "cell_type": "code",
   "execution_count": 12,
   "metadata": {},
   "outputs": [],
   "source": [
    "# Save the query results as a Pandas DataFrame and set the index to the date column\n",
    "climate_df = pd.DataFrame(data, columns = [\"date\", \"prcp\"])\n",
    "climate_df.set_index(\"date\", inplace=True)"
   ]
  },
  {
   "cell_type": "code",
   "execution_count": 13,
   "metadata": {},
   "outputs": [
    {
     "data": {
      "text/html": [
       "<div>\n",
       "<style scoped>\n",
       "    .dataframe tbody tr th:only-of-type {\n",
       "        vertical-align: middle;\n",
       "    }\n",
       "\n",
       "    .dataframe tbody tr th {\n",
       "        vertical-align: top;\n",
       "    }\n",
       "\n",
       "    .dataframe thead th {\n",
       "        text-align: right;\n",
       "    }\n",
       "</style>\n",
       "<table border=\"1\" class=\"dataframe\">\n",
       "  <thead>\n",
       "    <tr style=\"text-align: right;\">\n",
       "      <th></th>\n",
       "      <th>prcp</th>\n",
       "    </tr>\n",
       "    <tr>\n",
       "      <th>date</th>\n",
       "      <th></th>\n",
       "    </tr>\n",
       "  </thead>\n",
       "  <tbody>\n",
       "    <tr>\n",
       "      <th>2016-08-23</th>\n",
       "      <td>0.0</td>\n",
       "    </tr>\n",
       "    <tr>\n",
       "      <th>2016-08-23</th>\n",
       "      <td>NaN</td>\n",
       "    </tr>\n",
       "    <tr>\n",
       "      <th>2016-08-23</th>\n",
       "      <td>45.5</td>\n",
       "    </tr>\n",
       "    <tr>\n",
       "      <th>2016-08-23</th>\n",
       "      <td>1.3</td>\n",
       "    </tr>\n",
       "    <tr>\n",
       "      <th>2016-08-23</th>\n",
       "      <td>3.8</td>\n",
       "    </tr>\n",
       "    <tr>\n",
       "      <th>...</th>\n",
       "      <td>...</td>\n",
       "    </tr>\n",
       "    <tr>\n",
       "      <th>2016-09-07</th>\n",
       "      <td>1.3</td>\n",
       "    </tr>\n",
       "    <tr>\n",
       "      <th>2016-09-07</th>\n",
       "      <td>2.8</td>\n",
       "    </tr>\n",
       "    <tr>\n",
       "      <th>2016-09-07</th>\n",
       "      <td>2.5</td>\n",
       "    </tr>\n",
       "    <tr>\n",
       "      <th>2016-09-07</th>\n",
       "      <td>34.3</td>\n",
       "    </tr>\n",
       "    <tr>\n",
       "      <th>2016-09-07</th>\n",
       "      <td>5.8</td>\n",
       "    </tr>\n",
       "  </tbody>\n",
       "</table>\n",
       "<p>100 rows × 1 columns</p>\n",
       "</div>"
      ],
      "text/plain": [
       "            prcp\n",
       "date            \n",
       "2016-08-23   0.0\n",
       "2016-08-23   NaN\n",
       "2016-08-23  45.5\n",
       "2016-08-23   1.3\n",
       "2016-08-23   3.8\n",
       "...          ...\n",
       "2016-09-07   1.3\n",
       "2016-09-07   2.8\n",
       "2016-09-07   2.5\n",
       "2016-09-07  34.3\n",
       "2016-09-07   5.8\n",
       "\n",
       "[100 rows x 1 columns]"
      ]
     },
     "execution_count": 13,
     "metadata": {},
     "output_type": "execute_result"
    }
   ],
   "source": [
    "# Sort the dataframe by date\n",
    "climate_df = climate_df.sort_values([\"date\"])\n",
    "climate_df.head(100)"
   ]
  },
  {
   "cell_type": "code",
   "execution_count": 14,
   "metadata": {},
   "outputs": [
    {
     "data": {
      "image/png": "[encoded data removed]",
      "text/plain": [
       "<Figure size 1152x864 with 1 Axes>"
      ]
     },
     "metadata": {},
     "output_type": "display_data"
    }
   ],
   "source": [
    "# Use Pandas Plotting with Matplotlib to plot the data\n",
    "ax= climate_df.plot.bar(figsize=(16,12), width=20)\n",
    "ax.set_xlabel(\"date\", fontsize=16)\n",
    "ax.set_xticklabels([])\n",
    "plt.legend(['precipitation'], fontsize=28)\n",
    "ax.get_legend().set_bbox_to_anchor((0.6, 1))\n",
    "\n",
    "plt.show()"
   ]
  },
  {
   "cell_type": "code",
   "execution_count": 15,
   "metadata": {},
   "outputs": [
    {
     "data": {
      "text/html": [
       "<div>\n",
       "<style scoped>\n",
       "    .dataframe tbody tr th:only-of-type {\n",
       "        vertical-align: middle;\n",
       "    }\n",
       "\n",
       "    .dataframe tbody tr th {\n",
       "        vertical-align: top;\n",
       "    }\n",
       "\n",
       "    .dataframe thead th {\n",
       "        text-align: right;\n",
       "    }\n",
       "</style>\n",
       "<table border=\"1\" class=\"dataframe\">\n",
       "  <thead>\n",
       "    <tr style=\"text-align: right;\">\n",
       "      <th></th>\n",
       "      <th>precipitation</th>\n",
       "    </tr>\n",
       "  </thead>\n",
       "  <tbody>\n",
       "    <tr>\n",
       "      <th>count</th>\n",
       "      <td>2021.000000</td>\n",
       "    </tr>\n",
       "    <tr>\n",
       "      <th>mean</th>\n",
       "      <td>4.505888</td>\n",
       "    </tr>\n",
       "    <tr>\n",
       "      <th>std</th>\n",
       "      <td>11.713487</td>\n",
       "    </tr>\n",
       "    <tr>\n",
       "      <th>min</th>\n",
       "      <td>0.000000</td>\n",
       "    </tr>\n",
       "    <tr>\n",
       "      <th>25%</th>\n",
       "      <td>0.000000</td>\n",
       "    </tr>\n",
       "    <tr>\n",
       "      <th>50%</th>\n",
       "      <td>0.500000</td>\n",
       "    </tr>\n",
       "    <tr>\n",
       "      <th>75%</th>\n",
       "      <td>3.300000</td>\n",
       "    </tr>\n",
       "    <tr>\n",
       "      <th>max</th>\n",
       "      <td>170.200000</td>\n",
       "    </tr>\n",
       "  </tbody>\n",
       "</table>\n",
       "</div>"
      ],
      "text/plain": [
       "       precipitation\n",
       "count    2021.000000\n",
       "mean        4.505888\n",
       "std        11.713487\n",
       "min         0.000000\n",
       "25%         0.000000\n",
       "50%         0.500000\n",
       "75%         3.300000\n",
       "max       170.200000"
      ]
     },
     "execution_count": 15,
     "metadata": {},
     "output_type": "execute_result"
    }
   ],
   "source": [
    "# Use Pandas to calcualte the summary statistics for the precipitation data\n",
    "statistics = climate_df[\"prcp\"].describe()\n",
    "statistics_df = pd.DataFrame(statistics)\n",
    "statistics_df.rename(columns = {\"prcp\": \"precipitation\"})"
   ]
  },
  {
   "cell_type": "markdown",
   "metadata": {},
   "source": [
    "# Exploratory Station Analysis"
   ]
  },
  {
   "cell_type": "code",
   "execution_count": 16,
   "metadata": {},
   "outputs": [
    {
     "data": {
      "text/plain": [
       "9"
      ]
     },
     "execution_count": 16,
     "metadata": {},
     "output_type": "execute_result"
    }
   ],
   "source": [
    "# Design a query to calculate the total number stations in the dataset\n",
    "session.query(station).group_by(station.station).count()"
   ]
  },
  {
   "cell_type": "code",
   "execution_count": 17,
   "metadata": {},
   "outputs": [
    {
     "data": {
      "text/plain": [
       "[('USC00519281', 2772),\n",
       " ('USC00519397', 2724),\n",
       " ('USC00513117', 2709),\n",
       " ('USC00519523', 2669),\n",
       " ('USC00516128', 2612),\n",
       " ('USC00514830', 2202),\n",
       " ('USC00511918', 1979),\n",
       " ('USC00517948', 1372),\n",
       " ('USC00518838', 511)]"
      ]
     },
     "execution_count": 17,
     "metadata": {},
     "output_type": "execute_result"
    }
   ],
   "source": [
    "# Design a query to find the most active stations (i.e. what stations have the most rows?)\n",
    "# List the stations and the counts in descending order.\n",
    "session.query(measurement.station, func.count(measurement.date)).group_by(measurement.station).\\\n",
    "    order_by(func.count(measurement.date).desc()).all()"
   ]
  },
  {
   "cell_type": "code",
   "execution_count": 18,
   "metadata": {},
   "outputs": [
    {
     "data": {
      "text/plain": [
       "'USC00519281'"
      ]
     },
     "execution_count": 18,
     "metadata": {},
     "output_type": "execute_result"
    }
   ],
   "source": [
    "# Find the most active station.\n",
    "most_active_station=session.query(measurement.station).group_by(measurement.station).\\\n",
    "    order_by(func.count(measurement.date).desc()).first()\n",
    "most_active= most_active_station[0]\n",
    "most_active"
   ]
  },
  {
   "cell_type": "code",
   "execution_count": null,
   "metadata": {},
   "outputs": [],
   "source": [
    "# Calculate the lowest, highest, and average temperature.\n",
    "session.query(measurement.station, func.min(measurement.tobs), func.max(measurement.tobs), func.avg(measurement.tobs)).\\\n",
    "    filter(measurement.station==most_active).all()"
   ]
  },
  {
   "cell_type": "code",
   "execution_count": 19,
   "metadata": {},
   "outputs": [
    {
     "data": {
      "text/plain": [
       "[(25.0,),\n",
       " (25.0,),\n",
       " (26.7,),\n",
       " (26.7,),\n",
       " (23.9,),\n",
       " (22.8,),\n",
       " (25.6,),\n",
       " (25.0,),\n",
       " (25.6,),\n",
       " (26.7,),\n",
       " (26.7,),\n",
       " (25.6,),\n",
       " (25.6,),\n",
       " (25.6,),\n",
       " (22.8,),\n",
       " (23.3,),\n",
       " (26.7,),\n",
       " (26.1,),\n",
       " (25.0,),\n",
       " (26.7,),\n",
       " (24.4,),\n",
       " (26.1,),\n",
       " (23.9,),\n",
       " (26.1,),\n",
       " (25.6,),\n",
       " (26.1,),\n",
       " (25.6,),\n",
       " (25.6,),\n",
       " (24.4,),\n",
       " (23.3,),\n",
       " (25.0,),\n",
       " (25.6,),\n",
       " (26.1,),\n",
       " (26.1,),\n",
       " (25.0,),\n",
       " (26.7,),\n",
       " (25.6,),\n",
       " (25.6,),\n",
       " (25.6,),\n",
       " (25.0,),\n",
       " (26.1,),\n",
       " (26.1,),\n",
       " (26.1,),\n",
       " (26.1,),\n",
       " (23.9,),\n",
       " (24.4,),\n",
       " (22.8,),\n",
       " (22.2,),\n",
       " (21.7,),\n",
       " (25.0,),\n",
       " (26.1,),\n",
       " (25.6,),\n",
       " (26.1,),\n",
       " (25.0,),\n",
       " (26.1,),\n",
       " (25.0,),\n",
       " (25.6,),\n",
       " (25.6,),\n",
       " (25.6,),\n",
       " (25.6,),\n",
       " (25.0,),\n",
       " (23.3,),\n",
       " (23.9,),\n",
       " (24.4,),\n",
       " (22.8,),\n",
       " (24.4,),\n",
       " (23.3,),\n",
       " (25.0,),\n",
       " (24.4,),\n",
       " (24.4,),\n",
       " (23.3,),\n",
       " (23.9,),\n",
       " (23.9,),\n",
       " (23.9,),\n",
       " (23.9,),\n",
       " (21.7,),\n",
       " (17.2,),\n",
       " (21.1,),\n",
       " (20.0,),\n",
       " (19.4,),\n",
       " (25.0,),\n",
       " (23.3,),\n",
       " (25.0,),\n",
       " (24.4,),\n",
       " (24.4,),\n",
       " (23.9,),\n",
       " (24.4,),\n",
       " (23.9,),\n",
       " (22.8,),\n",
       " (23.9,),\n",
       " (22.8,),\n",
       " (23.9,),\n",
       " (23.3,),\n",
       " (23.9,),\n",
       " (23.3,),\n",
       " (23.9,),\n",
       " (22.8,),\n",
       " (23.9,),\n",
       " (22.8,),\n",
       " (22.8,),\n",
       " (23.3,),\n",
       " (21.1,),\n",
       " (22.2,),\n",
       " (21.1,),\n",
       " (19.4,),\n",
       " (19.4,),\n",
       " (20.6,),\n",
       " (21.1,),\n",
       " (20.0,),\n",
       " (20.6,),\n",
       " (20.6,),\n",
       " (18.9,),\n",
       " (18.3,),\n",
       " (20.0,),\n",
       " (16.7,),\n",
       " (23.9,),\n",
       " (21.1,),\n",
       " (20.6,),\n",
       " (24.4,),\n",
       " (24.4,),\n",
       " (23.3,),\n",
       " (22.8,),\n",
       " (21.7,),\n",
       " (23.3,),\n",
       " (23.3,),\n",
       " (22.2,),\n",
       " (21.7,),\n",
       " (22.2,),\n",
       " (23.3,),\n",
       " (20.6,),\n",
       " (19.4,),\n",
       " (22.2,),\n",
       " (21.1,),\n",
       " (17.8,),\n",
       " (17.2,),\n",
       " (17.2,),\n",
       " (16.7,),\n",
       " (21.1,),\n",
       " (21.1,),\n",
       " (16.7,),\n",
       " (16.7,),\n",
       " (17.2,),\n",
       " (18.3,),\n",
       " (20.6,),\n",
       " (25.0,),\n",
       " (21.1,),\n",
       " (23.3,),\n",
       " (20.6,),\n",
       " (22.2,),\n",
       " (21.7,),\n",
       " (20.6,),\n",
       " (21.7,),\n",
       " (21.7,),\n",
       " (22.2,),\n",
       " (22.2,),\n",
       " (20.6,),\n",
       " (21.1,),\n",
       " (18.9,),\n",
       " (18.3,),\n",
       " (20.6,),\n",
       " (20.0,),\n",
       " (20.0,),\n",
       " (20.0,),\n",
       " (15.0,),\n",
       " (15.6,),\n",
       " (21.1,),\n",
       " (22.8,),\n",
       " (23.9,),\n",
       " (17.8,),\n",
       " (15.0,),\n",
       " (15.0,),\n",
       " (16.7,),\n",
       " (20.0,),\n",
       " (21.1,),\n",
       " (22.8,),\n",
       " (26.1,),\n",
       " (23.9,),\n",
       " (18.3,),\n",
       " (21.1,),\n",
       " (23.3,),\n",
       " (21.1,),\n",
       " (21.1,),\n",
       " (21.7,),\n",
       " (21.7,),\n",
       " (21.7,),\n",
       " (20.6,),\n",
       " (16.1,),\n",
       " (19.4,),\n",
       " (18.3,),\n",
       " (22.2,),\n",
       " (21.7,),\n",
       " (22.8,),\n",
       " (22.2,),\n",
       " (25.0,),\n",
       " (22.8,),\n",
       " (19.4,),\n",
       " (16.7,),\n",
       " (17.8,),\n",
       " (19.4,),\n",
       " (18.9,),\n",
       " (27.2,),\n",
       " (20.6,),\n",
       " (18.9,),\n",
       " (19.4,),\n",
       " (20.6,),\n",
       " (18.9,),\n",
       " (20.0,),\n",
       " (18.3,),\n",
       " (23.3,),\n",
       " (20.6,),\n",
       " (22.2,),\n",
       " (22.8,),\n",
       " (22.2,),\n",
       " (21.7,),\n",
       " (24.4,),\n",
       " (25.0,),\n",
       " (24.4,),\n",
       " (23.3,),\n",
       " (20.0,),\n",
       " (22.8,),\n",
       " (21.7,),\n",
       " (23.3,),\n",
       " (23.9,),\n",
       " (21.1,),\n",
       " (19.4,),\n",
       " (21.7,),\n",
       " (19.4,),\n",
       " (23.3,),\n",
       " (25.0,),\n",
       " (25.6,),\n",
       " (19.4,),\n",
       " (21.1,),\n",
       " (20.6,),\n",
       " (20.6,),\n",
       " (23.3,),\n",
       " (25.6,),\n",
       " (21.7,),\n",
       " (19.4,),\n",
       " (20.0,),\n",
       " (19.4,),\n",
       " (24.4,),\n",
       " (20.6,),\n",
       " (22.2,),\n",
       " (24.4,),\n",
       " (20.0,),\n",
       " (22.2,),\n",
       " (23.3,),\n",
       " (21.1,),\n",
       " (19.4,),\n",
       " (22.2,),\n",
       " (15.6,),\n",
       " (18.3,),\n",
       " (23.9,),\n",
       " (21.1,),\n",
       " (23.9,),\n",
       " (21.1,),\n",
       " (26.1,),\n",
       " (23.9,),\n",
       " (21.1,),\n",
       " (19.4,),\n",
       " (23.3,),\n",
       " (21.1,),\n",
       " (23.9,),\n",
       " (24.4,),\n",
       " (25.0,),\n",
       " (23.3,),\n",
       " (23.3,),\n",
       " (23.3,),\n",
       " (20.6,),\n",
       " (20.0,),\n",
       " (24.4,),\n",
       " (23.3,),\n",
       " (21.7,),\n",
       " (21.7,),\n",
       " (23.3,),\n",
       " (23.3,),\n",
       " (23.3,),\n",
       " (23.3,),\n",
       " (26.7,),\n",
       " (23.3,),\n",
       " (22.2,),\n",
       " (23.9,),\n",
       " (26.7,),\n",
       " (24.4,),\n",
       " (24.4,),\n",
       " (25.0,),\n",
       " (23.9,),\n",
       " (23.9,),\n",
       " (23.9,),\n",
       " (23.9,),\n",
       " (22.2,),\n",
       " (23.3,),\n",
       " (23.3,),\n",
       " (23.3,),\n",
       " (24.4,),\n",
       " (23.3,),\n",
       " (23.9,),\n",
       " (22.8,),\n",
       " (26.1,),\n",
       " (23.9,),\n",
       " (22.2,),\n",
       " (22.2,),\n",
       " (23.3,),\n",
       " (22.2,),\n",
       " (22.2,),\n",
       " (25.0,),\n",
       " (21.7,),\n",
       " (22.8,),\n",
       " (24.4,),\n",
       " (25.0,),\n",
       " (24.4,),\n",
       " (24.4,),\n",
       " (26.1,),\n",
       " (27.2,),\n",
       " (24.4,),\n",
       " (25.6,),\n",
       " (25.0,),\n",
       " (23.3,),\n",
       " (23.9,),\n",
       " (25.6,),\n",
       " (25.6,),\n",
       " (20.6,),\n",
       " (22.2,),\n",
       " (23.3,),\n",
       " (23.3,),\n",
       " (24.4,),\n",
       " (26.7,),\n",
       " (26.7,),\n",
       " (24.4,),\n",
       " (24.4,),\n",
       " (24.4,),\n",
       " (25.0,),\n",
       " (25.0,),\n",
       " (25.0,),\n",
       " (27.8,),\n",
       " (23.9,),\n",
       " (25.0,),\n",
       " (23.9,),\n",
       " (24.4,),\n",
       " (27.2,),\n",
       " (27.8,),\n",
       " (27.2,),\n",
       " (24.4,),\n",
       " (25.0,),\n",
       " (27.8,),\n",
       " (28.3,),\n",
       " (25.0,),\n",
       " (25.0,),\n",
       " (25.0,),\n",
       " (24.4,),\n",
       " (24.4,),\n",
       " (26.1,)]"
      ]
     },
     "execution_count": 19,
     "metadata": {},
     "output_type": "execute_result"
    }
   ],
   "source": [
    "# Using the most active station id\n",
    "# Query the last 12 months of temperature observation data for this station and plot the results as a histogram\n",
    "temp_data=session.query(measurement.tobs).filter(measurement.station==most_active).\\\n",
    "    filter(measurement.date>=query_date).all()\n",
    "temp_data"
   ]
  },
  {
   "cell_type": "code",
   "execution_count": 20,
   "metadata": {},
   "outputs": [
    {
     "data": {
      "text/html": [
       "<div>\n",
       "<style scoped>\n",
       "    .dataframe tbody tr th:only-of-type {\n",
       "        vertical-align: middle;\n",
       "    }\n",
       "\n",
       "    .dataframe tbody tr th {\n",
       "        vertical-align: top;\n",
       "    }\n",
       "\n",
       "    .dataframe thead th {\n",
       "        text-align: right;\n",
       "    }\n",
       "</style>\n",
       "<table border=\"1\" class=\"dataframe\">\n",
       "  <thead>\n",
       "    <tr style=\"text-align: right;\">\n",
       "      <th></th>\n",
       "      <th>tobs</th>\n",
       "    </tr>\n",
       "  </thead>\n",
       "  <tbody>\n",
       "    <tr>\n",
       "      <th>0</th>\n",
       "      <td>25.0</td>\n",
       "    </tr>\n",
       "    <tr>\n",
       "      <th>1</th>\n",
       "      <td>25.0</td>\n",
       "    </tr>\n",
       "    <tr>\n",
       "      <th>2</th>\n",
       "      <td>26.7</td>\n",
       "    </tr>\n",
       "    <tr>\n",
       "      <th>3</th>\n",
       "      <td>26.7</td>\n",
       "    </tr>\n",
       "    <tr>\n",
       "      <th>4</th>\n",
       "      <td>23.9</td>\n",
       "    </tr>\n",
       "  </tbody>\n",
       "</table>\n",
       "</div>"
      ],
      "text/plain": [
       "   tobs\n",
       "0  25.0\n",
       "1  25.0\n",
       "2  26.7\n",
       "3  26.7\n",
       "4  23.9"
      ]
     },
     "execution_count": 20,
     "metadata": {},
     "output_type": "execute_result"
    }
   ],
   "source": [
    "# Create the dataframe\n",
    "temp_df = pd.DataFrame(temp_data, columns=[\"tobs\"])\n",
    "temp_df.head()"
   ]
  },
  {
   "cell_type": "code",
   "execution_count": 24,
   "metadata": {},
   "outputs": [
    {
     "data": {
      "image/png": "[encoded data removed]",
      "text/plain": [
       "<Figure size 720x432 with 1 Axes>"
      ]
     },
     "metadata": {},
     "output_type": "display_data"
    }
   ],
   "source": [
    "# Create histogram then save file as png\n",
    "plt.figure(figsize=(10,6))\n",
    "plt.hist(temp_df[\"tobs\"], bins=12)\n",
    "plt.ylabel(\"frequency\")\n",
    "plt.legend([\"tobs\"])\n",
    "plt.tight_layout()\n",
    "plt.show()\n"
   ]
  },
  {
   "cell_type": "markdown",
   "metadata": {},
   "source": [
    "# Close session"
   ]
  },
  {
   "cell_type": "code",
   "execution_count": null,
   "metadata": {},
   "outputs": [],
   "source": [
    "# Close Session\n",
    "session.close()"
   ]
  },
  {
   "cell_type": "code",
   "execution_count": null,
   "metadata": {},
   "outputs": [],
   "source": []
  }
 ],
 "metadata": {
  "anaconda-cloud": {},
  "kernel_info": {
   "name": "python3"
  },
  "kernelspec": {
   "display_name": "Python 3.9.12 ('base')",
   "language": "python",
   "name": "python3"
  },
  "language_info": {
   "codemirror_mode": {
    "name": "ipython",
    "version": 3
   },
   "file_extension": ".py",
   "mimetype": "text/x-python",
   "name": "python",
   "nbconvert_exporter": "python",
   "pygments_lexer": "ipython3",
   "version": "3.9.12"
  },
  "nteract": {
   "version": "0.12.3"
  },
  "varInspector": {
   "cols": {
    "lenName": 16,
    "lenType": 16,
    "lenVar": 40
   },
   "kernels_config": {
    "python": {
     "delete_cmd_postfix": "",
     "delete_cmd_prefix": "del ",
     "library": "var_list.py",
     "varRefreshCmd": "print(var_dic_list())"
    },
    "r": {
     "delete_cmd_postfix": ") ",
     "delete_cmd_prefix": "rm(",
     "library": "var_list.r",
     "varRefreshCmd": "cat(var_dic_list()) "
    }
   },
   "types_to_exclude": [
    "module",
    "function",
    "builtin_function_or_method",
    "instance",
    "_Feature"
   ],
   "window_display": false
  },
  "vscode": {
   "interpreter": {
    "hash": "9caa730cadaf79f02e6c0e023f9384e0cf856c4bf4ab42d1a9952074a22e8fbb"
   }
  }
 },
 "nbformat": 4,
 "nbformat_minor": 2
}
